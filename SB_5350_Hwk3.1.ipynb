{
 "cells": [
  {
   "cell_type": "code",
   "execution_count": 1,
   "id": "comprehensive-mixer",
   "metadata": {},
   "outputs": [],
   "source": [
    "import tensorflow as tf"
   ]
  },
  {
   "cell_type": "code",
   "execution_count": 2,
   "id": "aging-motivation",
   "metadata": {},
   "outputs": [],
   "source": [
    "mnist = tf.keras.datasets.mnist\n",
    "\n",
    "(x_train, y_train), (x_test, y_test) = mnist.load_data()\n",
    "#print(x_train.min(), x_train.max())\n",
    "#print(x_train.shape)\n",
    "#print(x_test.shape)\n",
    "#print(x_train[0])"
   ]
  },
  {
   "cell_type": "code",
   "execution_count": 3,
   "id": "direct-disclaimer",
   "metadata": {},
   "outputs": [],
   "source": [
    "x_train, x_test = x_train / 255.0, x_test / 255.0\n",
    "#print(x_train[0])"
   ]
  },
  {
   "cell_type": "code",
   "execution_count": 4,
   "id": "fresh-daily",
   "metadata": {},
   "outputs": [
    {
     "name": "stdout",
     "output_type": "stream",
     "text": [
      "(60000,)\n",
      "5\n"
     ]
    }
   ],
   "source": [
    "print(y_train.shape)\n",
    "print(y_train[0])"
   ]
  },
  {
   "cell_type": "markdown",
   "id": "infectious-treaty",
   "metadata": {},
   "source": [
    "###  Building the Network..."
   ]
  },
  {
   "cell_type": "code",
   "execution_count": 5,
   "id": "stainless-devil",
   "metadata": {},
   "outputs": [],
   "source": [
    "model = tf.keras.models.Sequential([\n",
    "    tf.keras.layers.Flatten(input_shape=(28, 28)),\n",
    "    tf.keras.layers.Dense(128, activation='relu'),\n",
    "    tf.keras.layers.Dropout(0.2),\n",
    "    tf.keras.layers.Dense(10)\n",
    "])"
   ]
  },
  {
   "cell_type": "code",
   "execution_count": 6,
   "id": "actual-isaac",
   "metadata": {},
   "outputs": [
    {
     "name": "stdout",
     "output_type": "stream",
     "text": [
      "(60000, 28, 28)\n",
      "(784,)\n",
      "(60000, 784)\n",
      "(60000, 28, 28)\n"
     ]
    }
   ],
   "source": [
    "import copy #needed for copy or deepcopy\n",
    "x_train_copy = copy.copy(x_train)\n",
    "print(x_train_copy.shape)\n",
    "print(x_train_copy[0].flatten().shape)\n",
    "x_train_copy = x_train_copy.reshape(60000, 28*28)\n",
    "print(x_train_copy.shape)\n",
    "print(x_train.shape)"
   ]
  },
  {
   "cell_type": "code",
   "execution_count": 7,
   "id": "serial-matthew",
   "metadata": {},
   "outputs": [],
   "source": [
    "x_train = x_train.reshape(60000, 28*28)\n",
    "x_test = x_test.reshape(10000, 28*28)"
   ]
  },
  {
   "cell_type": "code",
   "execution_count": 8,
   "id": "reverse-medicine",
   "metadata": {},
   "outputs": [],
   "source": [
    "model = tf.keras.models.Sequential([\n",
    "    #tf.keras.layers.Flatten(input_shape=(28, 28))\n",
    "    tf.keras.layers.Dense(10, activation='relu', input_shape=(784,)),\n",
    "    #tf.keras.layers.Dropout(0.2),\n",
    "    tf.keras.layers.Dense(10)\n",
    "])"
   ]
  },
  {
   "cell_type": "code",
   "execution_count": 9,
   "id": "chicken-absolute",
   "metadata": {},
   "outputs": [
    {
     "data": {
      "text/plain": [
       "array([[-0.18408644, -0.31474018,  0.09828976,  0.00946344, -0.45190635,\n",
       "        -0.2241431 ,  0.05376392,  0.03637554, -0.21060047, -0.15021642]],\n",
       "      dtype=float32)"
      ]
     },
     "execution_count": 9,
     "metadata": {},
     "output_type": "execute_result"
    }
   ],
   "source": [
    "predictions = model(x_train[:1])\n",
    "#print(predictions)\n",
    "predictions = predictions.numpy()\n",
    "predictions"
   ]
  },
  {
   "cell_type": "code",
   "execution_count": 10,
   "id": "super-sellers",
   "metadata": {},
   "outputs": [
    {
     "data": {
      "text/plain": [
       "array([[0.09375072, 0.08226828, 0.12433947, 0.11377117, 0.07172357,\n",
       "        0.09006959, 0.1189246 , 0.11687457, 0.09129767, 0.09698044]],\n",
       "      dtype=float32)"
      ]
     },
     "execution_count": 10,
     "metadata": {},
     "output_type": "execute_result"
    }
   ],
   "source": [
    "tf.nn.softmax(predictions).numpy()"
   ]
  },
  {
   "cell_type": "markdown",
   "id": "binding-rotation",
   "metadata": {},
   "source": [
    "### Model #1"
   ]
  },
  {
   "cell_type": "code",
   "execution_count": 11,
   "id": "incorrect-baghdad",
   "metadata": {},
   "outputs": [],
   "source": [
    "loss_fn = tf.keras.losses.SparseCategoricalCrossentropy(from_logits=True)"
   ]
  },
  {
   "cell_type": "code",
   "execution_count": 12,
   "id": "western-throw",
   "metadata": {},
   "outputs": [
    {
     "data": {
      "text/plain": [
       "2.4071727"
      ]
     },
     "execution_count": 12,
     "metadata": {},
     "output_type": "execute_result"
    }
   ],
   "source": [
    "loss_fn(y_train[:1], predictions).numpy()"
   ]
  },
  {
   "cell_type": "code",
   "execution_count": 13,
   "id": "accessible-aluminum",
   "metadata": {},
   "outputs": [],
   "source": [
    "model = tf.keras.models.Sequential([\n",
    "    #tf.keras.layers.Flatten(input_shape=(28, 28))\n",
    "    tf.keras.layers.Dense(16, activation='selu', input_shape=(784,)),\n",
    "    #tf.keras.layers.Dropout(0.2),\n",
    "    tf.keras.layers.Dense(10)\n",
    "])"
   ]
  },
  {
   "cell_type": "code",
   "execution_count": 14,
   "id": "found-stream",
   "metadata": {},
   "outputs": [],
   "source": [
    "model.compile(optimizer='Adam',\n",
    "             loss=loss_fn,\n",
    "             metrics=['accuracy'])"
   ]
  },
  {
   "cell_type": "code",
   "execution_count": 15,
   "id": "occupied-search",
   "metadata": {},
   "outputs": [
    {
     "name": "stdout",
     "output_type": "stream",
     "text": [
      "Epoch 1/5\n",
      "1875/1875 [==============================] - 1s 517us/step - loss: 0.3940 - accuracy: 0.8899\n",
      "Epoch 2/5\n",
      "1875/1875 [==============================] - 1s 520us/step - loss: 0.2553 - accuracy: 0.9272\n",
      "Epoch 3/5\n",
      "1875/1875 [==============================] - 1s 526us/step - loss: 0.2229 - accuracy: 0.9355\n",
      "Epoch 4/5\n",
      "1875/1875 [==============================] - 1s 520us/step - loss: 0.1986 - accuracy: 0.9430\n",
      "Epoch 5/5\n",
      "1875/1875 [==============================] - 1s 518us/step - loss: 0.1820 - accuracy: 0.9473\n"
     ]
    },
    {
     "data": {
      "text/plain": [
       "<tensorflow.python.keras.callbacks.History at 0x2bc6c077088>"
      ]
     },
     "execution_count": 15,
     "metadata": {},
     "output_type": "execute_result"
    }
   ],
   "source": [
    "model.fit(x_train, y_train, epochs=5)"
   ]
  },
  {
   "cell_type": "code",
   "execution_count": 16,
   "id": "australian-salvation",
   "metadata": {},
   "outputs": [
    {
     "name": "stdout",
     "output_type": "stream",
     "text": [
      "313/313 - 0s - loss: 0.1852 - accuracy: 0.9462\n"
     ]
    },
    {
     "data": {
      "text/plain": [
       "[0.18515436351299286, 0.9462000131607056]"
      ]
     },
     "execution_count": 16,
     "metadata": {},
     "output_type": "execute_result"
    }
   ],
   "source": [
    "model.evaluate(x_test, y_test, verbose=2)"
   ]
  },
  {
   "cell_type": "markdown",
   "id": "stopped-matter",
   "metadata": {},
   "source": [
    "### Model  #2"
   ]
  },
  {
   "cell_type": "code",
   "execution_count": 17,
   "id": "reliable-persian",
   "metadata": {},
   "outputs": [],
   "source": [
    "model = tf.keras.models.Sequential([\n",
    "    #tf.keras.layers.Flatten(input_shape=(28, 28))\n",
    "    tf.keras.layers.Dense(16, activation='relu', input_shape=(784,)),\n",
    "    #tf.keras.layers.Dropout(0.2),\n",
    "    tf.keras.layers.Dense(10)\n",
    "])"
   ]
  },
  {
   "cell_type": "code",
   "execution_count": 18,
   "id": "different-stress",
   "metadata": {},
   "outputs": [],
   "source": [
    "model.compile(optimizer='RMSProp',\n",
    "             loss=loss_fn,\n",
    "             metrics=['accuracy'])"
   ]
  },
  {
   "cell_type": "code",
   "execution_count": 19,
   "id": "earned-evening",
   "metadata": {},
   "outputs": [
    {
     "name": "stdout",
     "output_type": "stream",
     "text": [
      "Epoch 1/5\n",
      "1875/1875 [==============================] - 1s 495us/step - loss: 0.4404 - accuracy: 0.8792\n",
      "Epoch 2/5\n",
      "1875/1875 [==============================] - 1s 490us/step - loss: 0.2687 - accuracy: 0.9237\n",
      "Epoch 3/5\n",
      "1875/1875 [==============================] - 1s 495us/step - loss: 0.2332 - accuracy: 0.9341\n",
      "Epoch 4/5\n",
      "1875/1875 [==============================] - 1s 492us/step - loss: 0.2109 - accuracy: 0.9408\n",
      "Epoch 5/5\n",
      "1875/1875 [==============================] - 1s 502us/step - loss: 0.1957 - accuracy: 0.9455\n"
     ]
    },
    {
     "data": {
      "text/plain": [
       "<tensorflow.python.keras.callbacks.History at 0x2bc7e2a9888>"
      ]
     },
     "execution_count": 19,
     "metadata": {},
     "output_type": "execute_result"
    }
   ],
   "source": [
    "model.fit(x_train, y_train, epochs=5)"
   ]
  },
  {
   "cell_type": "code",
   "execution_count": 20,
   "id": "qualified-bacon",
   "metadata": {},
   "outputs": [
    {
     "name": "stdout",
     "output_type": "stream",
     "text": [
      "313/313 - 0s - loss: 0.1915 - accuracy: 0.9457\n"
     ]
    },
    {
     "data": {
      "text/plain": [
       "[0.19151876866817474, 0.9456999897956848]"
      ]
     },
     "execution_count": 20,
     "metadata": {},
     "output_type": "execute_result"
    }
   ],
   "source": [
    "model.evaluate(x_test, y_test, verbose=2)"
   ]
  },
  {
   "cell_type": "markdown",
   "id": "honey-passing",
   "metadata": {},
   "source": [
    "### Model #3"
   ]
  },
  {
   "cell_type": "code",
   "execution_count": 21,
   "id": "precise-debate",
   "metadata": {},
   "outputs": [],
   "source": [
    "model = tf.keras.models.Sequential([\n",
    "    #tf.keras.layers.Flatten(input_shape=(28, 28))\n",
    "    tf.keras.layers.Dense(28, activation='relu', input_shape=(784,)),\n",
    "    tf.keras.layers.Dense(14, activation='relu'),\n",
    "    tf.keras.layers.Dense(7, activation='relu'),\n",
    "    #tf.keras.layers.Dropout(0.2),\n",
    "    tf.keras.layers.Dense(10)\n",
    "])"
   ]
  },
  {
   "cell_type": "code",
   "execution_count": 22,
   "id": "thick-undergraduate",
   "metadata": {},
   "outputs": [],
   "source": [
    "model.compile(optimizer='adam',\n",
    "             loss=loss_fn,\n",
    "             metrics=['accuracy'])"
   ]
  },
  {
   "cell_type": "code",
   "execution_count": 23,
   "id": "turned-defensive",
   "metadata": {},
   "outputs": [
    {
     "name": "stdout",
     "output_type": "stream",
     "text": [
      "Epoch 1/5\n",
      "1875/1875 [==============================] - 1s 565us/step - loss: 0.5104 - accuracy: 0.8493\n",
      "Epoch 2/5\n",
      "1875/1875 [==============================] - 1s 562us/step - loss: 0.2233 - accuracy: 0.9372\n",
      "Epoch 3/5\n",
      "1875/1875 [==============================] - 1s 559us/step - loss: 0.1756 - accuracy: 0.9493\n",
      "Epoch 4/5\n",
      "1875/1875 [==============================] - 1s 561us/step - loss: 0.1487 - accuracy: 0.9572\n",
      "Epoch 5/5\n",
      "1875/1875 [==============================] - 1s 553us/step - loss: 0.1311 - accuracy: 0.9617\n"
     ]
    },
    {
     "data": {
      "text/plain": [
       "<tensorflow.python.keras.callbacks.History at 0x2bc6d55ef08>"
      ]
     },
     "execution_count": 23,
     "metadata": {},
     "output_type": "execute_result"
    }
   ],
   "source": [
    "model.fit(x_train, y_train, epochs=5)"
   ]
  },
  {
   "cell_type": "code",
   "execution_count": 24,
   "id": "assisted-garlic",
   "metadata": {},
   "outputs": [
    {
     "name": "stdout",
     "output_type": "stream",
     "text": [
      "313/313 - 0s - loss: 0.1452 - accuracy: 0.9587\n"
     ]
    },
    {
     "data": {
      "text/plain": [
       "[0.14522098004817963, 0.9587000012397766]"
      ]
     },
     "execution_count": 24,
     "metadata": {},
     "output_type": "execute_result"
    }
   ],
   "source": [
    "model.evaluate(x_test, y_test, verbose=2)"
   ]
  },
  {
   "cell_type": "markdown",
   "id": "resident-listening",
   "metadata": {},
   "source": [
    "### Model #4"
   ]
  },
  {
   "cell_type": "code",
   "execution_count": 25,
   "id": "central-nothing",
   "metadata": {},
   "outputs": [],
   "source": [
    "model = tf.keras.models.Sequential([\n",
    "    #tf.keras.layers.Flatten(input_shape=(28, 28))\n",
    "    tf.keras.layers.Dense(784, activation='tanh', input_shape=(784,)),\n",
    "    #tf.keras.layers.Dense(14, activation='relu'),\n",
    "    #tf.keras.layers.Dense(14, activation='softmax'),\n",
    "    #tf.keras.layers.Dropout(0.2),\n",
    "    tf.keras.layers.Dense(10)\n",
    "])"
   ]
  },
  {
   "cell_type": "code",
   "execution_count": 26,
   "id": "loving-pollution",
   "metadata": {},
   "outputs": [],
   "source": [
    "model.compile(optimizer='ftrl',\n",
    "             loss=loss_fn,\n",
    "             metrics=['accuracy'])"
   ]
  },
  {
   "cell_type": "code",
   "execution_count": 27,
   "id": "fifth-membrane",
   "metadata": {},
   "outputs": [
    {
     "name": "stdout",
     "output_type": "stream",
     "text": [
      "Epoch 1/5\n",
      "1875/1875 [==============================] - 5s 3ms/step - loss: 2.3000 - accuracy: 0.1567\n",
      "Epoch 2/5\n",
      "1875/1875 [==============================] - 5s 3ms/step - loss: 2.0634 - accuracy: 0.3059\n",
      "Epoch 3/5\n",
      "1875/1875 [==============================] - 7s 4ms/step - loss: 1.2978 - accuracy: 0.5935\n",
      "Epoch 4/5\n",
      "1875/1875 [==============================] - 7s 3ms/step - loss: 0.8702 - accuracy: 0.7520\n",
      "Epoch 5/5\n",
      "1875/1875 [==============================] - 7s 4ms/step - loss: 0.6913 - accuracy: 0.8049\n"
     ]
    },
    {
     "data": {
      "text/plain": [
       "<tensorflow.python.keras.callbacks.History at 0x2bc6ea6c348>"
      ]
     },
     "execution_count": 27,
     "metadata": {},
     "output_type": "execute_result"
    }
   ],
   "source": [
    "model.fit(x_train, y_train, epochs=5)"
   ]
  },
  {
   "cell_type": "code",
   "execution_count": 28,
   "id": "still-chick",
   "metadata": {},
   "outputs": [
    {
     "name": "stdout",
     "output_type": "stream",
     "text": [
      "313/313 - 0s - loss: 0.6152 - accuracy: 0.8272\n"
     ]
    },
    {
     "data": {
      "text/plain": [
       "[0.6151817440986633, 0.8271999955177307]"
      ]
     },
     "execution_count": 28,
     "metadata": {},
     "output_type": "execute_result"
    }
   ],
   "source": [
    "model.evaluate(x_test, y_test, verbose=2)"
   ]
  },
  {
   "cell_type": "markdown",
   "id": "realistic-fleet",
   "metadata": {},
   "source": [
    "### Model # 5"
   ]
  },
  {
   "cell_type": "code",
   "execution_count": 29,
   "id": "incredible-lunch",
   "metadata": {},
   "outputs": [],
   "source": [
    "model = tf.keras.models.Sequential([\n",
    "    #tf.keras.layers.Flatten(input_shape=(28, 28))\n",
    "    tf.keras.layers.Dense(28, activation='sigmoid', input_shape=(784,)),\n",
    "    #tf.keras.layers.Dense(14, activation=''),\n",
    "    #tf.keras.layers.Dropout(0.2),\n",
    "    tf.keras.layers.Dense(10)\n",
    "])"
   ]
  },
  {
   "cell_type": "code",
   "execution_count": 30,
   "id": "sticky-domain",
   "metadata": {},
   "outputs": [],
   "source": [
    "model.compile(optimizer='adam',\n",
    "             loss=loss_fn,\n",
    "             metrics=['accuracy'])"
   ]
  },
  {
   "cell_type": "code",
   "execution_count": 31,
   "id": "permanent-patrick",
   "metadata": {},
   "outputs": [
    {
     "name": "stdout",
     "output_type": "stream",
     "text": [
      "Epoch 1/5\n",
      "1875/1875 [==============================] - 1s 527us/step - loss: 0.6200 - accuracy: 0.8566\n",
      "Epoch 2/5\n",
      "1875/1875 [==============================] - 1s 549us/step - loss: 0.2717 - accuracy: 0.9257\n",
      "Epoch 3/5\n",
      "1875/1875 [==============================] - 1s 529us/step - loss: 0.2180 - accuracy: 0.9390\n",
      "Epoch 4/5\n",
      "1875/1875 [==============================] - 1s 548us/step - loss: 0.1878 - accuracy: 0.9473\n",
      "Epoch 5/5\n",
      "1875/1875 [==============================] - 1s 537us/step - loss: 0.1678 - accuracy: 0.9523\n"
     ]
    },
    {
     "data": {
      "text/plain": [
       "<tensorflow.python.keras.callbacks.History at 0x2bc7e76f648>"
      ]
     },
     "execution_count": 31,
     "metadata": {},
     "output_type": "execute_result"
    }
   ],
   "source": [
    "model.fit(x_train, y_train, epochs=5)"
   ]
  },
  {
   "cell_type": "code",
   "execution_count": 32,
   "id": "activated-northern",
   "metadata": {},
   "outputs": [
    {
     "name": "stdout",
     "output_type": "stream",
     "text": [
      "313/313 - 0s - loss: 0.1707 - accuracy: 0.9475\n"
     ]
    },
    {
     "data": {
      "text/plain": [
       "[0.1707497090101242, 0.9474999904632568]"
      ]
     },
     "execution_count": 32,
     "metadata": {},
     "output_type": "execute_result"
    }
   ],
   "source": [
    "model.evaluate(x_test, y_test, verbose=2)"
   ]
  },
  {
   "cell_type": "markdown",
   "id": "behavioral-senator",
   "metadata": {},
   "source": [
    "### The Answer to Homework Question #1 \n",
    "<p>1. Based on this article about the sigmoid vs softmax functions, why do we not want to use sigmoid in our mnist example? <br>\n",
    "https://glassboxmedicine.com/2019/05/26/classification-sigmoid-vs-softmax/<br><br>\n",
    "The sigmoid function treats all of the outputs individually.  The softmax algorithm treats them as interrelated values dependent on one another.  Each of the softmax values collectively sum to one.  So if one value increases another decreases. The softmax algorithm predicts the one and only one answer.  A sigmoid function can detect many different outcomes. A softmax function only predicts one.  For our MNIST example we only want to predict one outcome.  We don’t want an algorithm that will return a set of possible solutions.  Each number must be clearly identified.   We do not want an algorithm that will produce an ambiguous solution. <p>\n",
    "\n",
    "\n",
    "### Results\n",
    "\n",
    "<p>Model #1<br>\n",
    "options: relu, adam<br> \n",
    "train time: 1 second<br> \n",
    "train acc: 0.9471<br>\n",
    " test acc0.9411<br>\n",
    "To get best results, you<br>\n",
    "I did not alter anything for this test<br>\n",
    "\n",
    "Model #2<br>\n",
    "options: relu, RMSProp<br> \n",
    "train time: 1 second<br> \n",
    "train acc: 0.9433<br>\n",
    " test acc 0.9442<br>\n",
    "To get best results, you<br>\n",
    "Changed optimizer to RMSProl<br>\n",
    "\n",
    "Model #3<br>\n",
    "options: relu, adam<br> \n",
    "train time: 1 second<br> \n",
    "train acc: 0.96193<br>\n",
    " test acc 0.9597<br>\n",
    "To get best results, you<br>\n",
    "Defined three layers</p>\n",
    "\n",
    "Model #4<br>\n",
    "options: tanh, ftrl<br> \n",
    "train time: 1 second<br> \n",
    "train acc: 0.8033<br>\n",
    " test acc 0.8244<br>\n",
    "To get best results, you<br>\n",
    "Changed optimizer to ftrl<br>\n",
    "\n",
    "Model #5<br>\n",
    "options: sigmoid, adam<br> \n",
    "train time: 1 second<br> \n",
    "train acc: 0.9523<br>\n",
    " test acc 0.9475<br>\n",
    "To get best results, you<br>\n",
    "used sigmoid activation function</p>"
   ]
  },
  {
   "cell_type": "code",
   "execution_count": null,
   "id": "brutal-killing",
   "metadata": {},
   "outputs": [],
   "source": []
  }
 ],
 "metadata": {
  "kernelspec": {
   "display_name": "Python 3",
   "language": "python",
   "name": "python3"
  },
  "language_info": {
   "codemirror_mode": {
    "name": "ipython",
    "version": 3
   },
   "file_extension": ".py",
   "mimetype": "text/x-python",
   "name": "python",
   "nbconvert_exporter": "python",
   "pygments_lexer": "ipython3",
   "version": "3.7.9"
  }
 },
 "nbformat": 4,
 "nbformat_minor": 5
}
