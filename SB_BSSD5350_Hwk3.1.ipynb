{
 "cells": [
  {
   "cell_type": "code",
   "execution_count": 1,
   "id": "ethical-consolidation",
   "metadata": {},
   "outputs": [],
   "source": [
    "import tensorflow as tf"
   ]
  },
  {
   "cell_type": "code",
   "execution_count": 2,
   "id": "sitting-austria",
   "metadata": {},
   "outputs": [],
   "source": [
    "mnist = tf.keras.datasets.mnist\n",
    "\n",
    "(x_train, y_train), (x_test, y_test) = mnist.load_data()\n",
    "#print(x_train.min(), x_train.max())\n",
    "#print(x_train.shape)\n",
    "#print(x_test.shape)\n",
    "#print(x_train[0])"
   ]
  },
  {
   "cell_type": "code",
   "execution_count": 3,
   "id": "olympic-syracuse",
   "metadata": {},
   "outputs": [],
   "source": [
    "x_train, x_test = x_train / 255.0, x_test / 255.0\n",
    "#print(x_train[0])"
   ]
  },
  {
   "cell_type": "code",
   "execution_count": 4,
   "id": "maritime-divorce",
   "metadata": {},
   "outputs": [
    {
     "name": "stdout",
     "output_type": "stream",
     "text": [
      "(60000,)\n",
      "5\n"
     ]
    }
   ],
   "source": [
    "print(y_train.shape)\n",
    "print(y_train[0])"
   ]
  },
  {
   "cell_type": "markdown",
   "id": "massive-variance",
   "metadata": {},
   "source": [
    "###  Building the Network..."
   ]
  },
  {
   "cell_type": "code",
   "execution_count": 5,
   "id": "gentle-sunglasses",
   "metadata": {},
   "outputs": [],
   "source": [
    "model = tf.keras.models.Sequential([\n",
    "    tf.keras.layers.Flatten(input_shape=(28, 28)),\n",
    "    tf.keras.layers.Dense(128, activation='relu'),\n",
    "    tf.keras.layers.Dropout(0.2),\n",
    "    tf.keras.layers.Dense(10)\n",
    "])"
   ]
  },
  {
   "cell_type": "code",
   "execution_count": 6,
   "id": "hungry-projector",
   "metadata": {},
   "outputs": [
    {
     "name": "stdout",
     "output_type": "stream",
     "text": [
      "(60000, 28, 28)\n",
      "(784,)\n",
      "(60000, 784)\n",
      "(60000, 28, 28)\n"
     ]
    }
   ],
   "source": [
    "import copy #needed for copy or deepcopy\n",
    "x_train_copy = copy.copy(x_train)\n",
    "print(x_train_copy.shape)\n",
    "print(x_train_copy[0].flatten().shape)\n",
    "x_train_copy = x_train_copy.reshape(60000, 28*28)\n",
    "print(x_train_copy.shape)\n",
    "print(x_train.shape)"
   ]
  },
  {
   "cell_type": "code",
   "execution_count": 7,
   "id": "affected-shepherd",
   "metadata": {},
   "outputs": [],
   "source": [
    "x_train = x_train.reshape(60000, 28*28)\n",
    "x_test = x_test.reshape(10000, 28*28)"
   ]
  },
  {
   "cell_type": "markdown",
   "id": "rising-reply",
   "metadata": {},
   "source": [
    "### Model #1"
   ]
  },
  {
   "cell_type": "code",
   "execution_count": 8,
   "id": "described-thompson",
   "metadata": {},
   "outputs": [],
   "source": [
    "loss_fn = tf.keras.losses.SparseCategoricalCrossentropy(from_logits=True)"
   ]
  },
  {
   "cell_type": "code",
   "execution_count": 9,
   "id": "manufactured-arctic",
   "metadata": {},
   "outputs": [],
   "source": [
    "model = tf.keras.models.Sequential([\n",
    "    #tf.keras.layers.Flatten(input_shape=(28, 28))\n",
    "    tf.keras.layers.Dense(16, activation='selu', input_shape=(784,)),\n",
    "    #tf.keras.layers.Dropout(0.2),\n",
    "    tf.keras.layers.Dense(10)\n",
    "])"
   ]
  },
  {
   "cell_type": "code",
   "execution_count": 10,
   "id": "american-creativity",
   "metadata": {},
   "outputs": [],
   "source": [
    "model.compile(optimizer='Adam',\n",
    "             loss=loss_fn,\n",
    "             metrics=['accuracy'])"
   ]
  },
  {
   "cell_type": "code",
   "execution_count": 11,
   "id": "smart-google",
   "metadata": {},
   "outputs": [
    {
     "name": "stdout",
     "output_type": "stream",
     "text": [
      "Epoch 1/5\n",
      "1875/1875 [==============================] - 1s 503us/step - loss: 0.4149 - accuracy: 0.8838\n",
      "Epoch 2/5\n",
      "1875/1875 [==============================] - 1s 503us/step - loss: 0.2536 - accuracy: 0.9272\n",
      "Epoch 3/5\n",
      "1875/1875 [==============================] - 1s 506us/step - loss: 0.2209 - accuracy: 0.9359\n",
      "Epoch 4/5\n",
      "1875/1875 [==============================] - 1s 497us/step - loss: 0.2007 - accuracy: 0.9415\n",
      "Epoch 5/5\n",
      "1875/1875 [==============================] - 1s 499us/step - loss: 0.1852 - accuracy: 0.9456\n"
     ]
    },
    {
     "data": {
      "text/plain": [
       "<tensorflow.python.keras.callbacks.History at 0x1ea4d244f08>"
      ]
     },
     "execution_count": 11,
     "metadata": {},
     "output_type": "execute_result"
    }
   ],
   "source": [
    "model.fit(x_train, y_train, epochs=5)"
   ]
  },
  {
   "cell_type": "code",
   "execution_count": 12,
   "id": "noticed-miniature",
   "metadata": {},
   "outputs": [
    {
     "name": "stdout",
     "output_type": "stream",
     "text": [
      "313/313 - 0s - loss: 0.2092 - accuracy: 0.9428\n"
     ]
    },
    {
     "data": {
      "text/plain": [
       "[0.2091987580060959, 0.942799985408783]"
      ]
     },
     "execution_count": 12,
     "metadata": {},
     "output_type": "execute_result"
    }
   ],
   "source": [
    "model.evaluate(x_test, y_test, verbose=2)"
   ]
  },
  {
   "cell_type": "markdown",
   "id": "wooden-signal",
   "metadata": {},
   "source": [
    "### Model  #2"
   ]
  },
  {
   "cell_type": "code",
   "execution_count": 13,
   "id": "cultural-panic",
   "metadata": {},
   "outputs": [],
   "source": [
    "model = tf.keras.models.Sequential([\n",
    "    #tf.keras.layers.Flatten(input_shape=(28, 28))\n",
    "    tf.keras.layers.Dense(16, activation='relu', input_shape=(784,)),\n",
    "    #tf.keras.layers.Dropout(0.2),\n",
    "    tf.keras.layers.Dense(10)\n",
    "])"
   ]
  },
  {
   "cell_type": "code",
   "execution_count": 14,
   "id": "cooked-arrangement",
   "metadata": {},
   "outputs": [],
   "source": [
    "model.compile(optimizer='RMSProp',\n",
    "             loss=loss_fn,\n",
    "             metrics=['accuracy'])"
   ]
  },
  {
   "cell_type": "code",
   "execution_count": 15,
   "id": "public-router",
   "metadata": {},
   "outputs": [
    {
     "name": "stdout",
     "output_type": "stream",
     "text": [
      "Epoch 1/5\n",
      "1875/1875 [==============================] - 1s 547us/step - loss: 0.4374 - accuracy: 0.8754\n",
      "Epoch 2/5\n",
      "1875/1875 [==============================] - 1s 549us/step - loss: 0.2605 - accuracy: 0.9247\n",
      "Epoch 3/5\n",
      "1875/1875 [==============================] - 1s 539us/step - loss: 0.2307 - accuracy: 0.9340\n",
      "Epoch 4/5\n",
      "1875/1875 [==============================] - 1s 523us/step - loss: 0.2149 - accuracy: 0.9382\n",
      "Epoch 5/5\n",
      "1875/1875 [==============================] - 1s 515us/step - loss: 0.2045 - accuracy: 0.9422\n"
     ]
    },
    {
     "data": {
      "text/plain": [
       "<tensorflow.python.keras.callbacks.History at 0x1ea4d2935c8>"
      ]
     },
     "execution_count": 15,
     "metadata": {},
     "output_type": "execute_result"
    }
   ],
   "source": [
    "model.fit(x_train, y_train, epochs=5)"
   ]
  },
  {
   "cell_type": "code",
   "execution_count": 16,
   "id": "impossible-azerbaijan",
   "metadata": {},
   "outputs": [
    {
     "name": "stdout",
     "output_type": "stream",
     "text": [
      "313/313 - 0s - loss: 0.1967 - accuracy: 0.9422\n"
     ]
    },
    {
     "data": {
      "text/plain": [
       "[0.1966744214296341, 0.9422000050544739]"
      ]
     },
     "execution_count": 16,
     "metadata": {},
     "output_type": "execute_result"
    }
   ],
   "source": [
    "model.evaluate(x_test, y_test, verbose=2)"
   ]
  },
  {
   "cell_type": "markdown",
   "id": "constant-arrest",
   "metadata": {},
   "source": [
    "### Model #3"
   ]
  },
  {
   "cell_type": "code",
   "execution_count": 17,
   "id": "surprising-blackjack",
   "metadata": {},
   "outputs": [],
   "source": [
    "model = tf.keras.models.Sequential([\n",
    "    #tf.keras.layers.Flatten(input_shape=(28, 28))\n",
    "    tf.keras.layers.Dense(28, activation='relu', input_shape=(784,)),\n",
    "    tf.keras.layers.Dense(14, activation='relu'),\n",
    "    tf.keras.layers.Dense(7, activation='relu'),\n",
    "    #tf.keras.layers.Dropout(0.2),\n",
    "    tf.keras.layers.Dense(10)\n",
    "])"
   ]
  },
  {
   "cell_type": "code",
   "execution_count": 18,
   "id": "separated-charge",
   "metadata": {},
   "outputs": [],
   "source": [
    "model.compile(optimizer='adam',\n",
    "             loss=loss_fn,\n",
    "             metrics=['accuracy'])"
   ]
  },
  {
   "cell_type": "code",
   "execution_count": 19,
   "id": "thrown-timothy",
   "metadata": {},
   "outputs": [
    {
     "name": "stdout",
     "output_type": "stream",
     "text": [
      "Epoch 1/5\n",
      "1875/1875 [==============================] - 1s 616us/step - loss: 0.5299 - accuracy: 0.8392\n",
      "Epoch 2/5\n",
      "1875/1875 [==============================] - 1s 583us/step - loss: 0.2192 - accuracy: 0.9374\n",
      "Epoch 3/5\n",
      "1875/1875 [==============================] - 1s 588us/step - loss: 0.1721 - accuracy: 0.9497\n",
      "Epoch 4/5\n",
      "1875/1875 [==============================] - 1s 639us/step - loss: 0.1482 - accuracy: 0.9559\n",
      "Epoch 5/5\n",
      "1875/1875 [==============================] - 1s 596us/step - loss: 0.1342 - accuracy: 0.9599\n"
     ]
    },
    {
     "data": {
      "text/plain": [
       "<tensorflow.python.keras.callbacks.History at 0x1ea4f6e28c8>"
      ]
     },
     "execution_count": 19,
     "metadata": {},
     "output_type": "execute_result"
    }
   ],
   "source": [
    "model.fit(x_train, y_train, epochs=5)"
   ]
  },
  {
   "cell_type": "code",
   "execution_count": 20,
   "id": "recorded-nicholas",
   "metadata": {},
   "outputs": [
    {
     "name": "stdout",
     "output_type": "stream",
     "text": [
      "313/313 - 0s - loss: 0.1498 - accuracy: 0.9587\n"
     ]
    },
    {
     "data": {
      "text/plain": [
       "[0.14977861940860748, 0.9587000012397766]"
      ]
     },
     "execution_count": 20,
     "metadata": {},
     "output_type": "execute_result"
    }
   ],
   "source": [
    "model.evaluate(x_test, y_test, verbose=2)"
   ]
  },
  {
   "cell_type": "markdown",
   "id": "inclusive-privilege",
   "metadata": {},
   "source": [
    "### Model #4"
   ]
  },
  {
   "cell_type": "code",
   "execution_count": 21,
   "id": "senior-gallery",
   "metadata": {},
   "outputs": [],
   "source": [
    "model = tf.keras.models.Sequential([\n",
    "    #tf.keras.layers.Flatten(input_shape=(28, 28))\n",
    "    tf.keras.layers.Dense(784, activation='tanh', input_shape=(784,)),\n",
    "    #tf.keras.layers.Dense(14, activation='relu'),\n",
    "    #tf.keras.layers.Dense(14, activation='softmax'),\n",
    "    #tf.keras.layers.Dropout(0.2),\n",
    "    tf.keras.layers.Dense(10)\n",
    "])"
   ]
  },
  {
   "cell_type": "code",
   "execution_count": 22,
   "id": "vertical-texture",
   "metadata": {},
   "outputs": [],
   "source": [
    "model.compile(optimizer='ftrl',\n",
    "             loss=loss_fn,\n",
    "             metrics=['accuracy'])"
   ]
  },
  {
   "cell_type": "code",
   "execution_count": 23,
   "id": "accompanied-rochester",
   "metadata": {},
   "outputs": [
    {
     "name": "stdout",
     "output_type": "stream",
     "text": [
      "Epoch 1/5\n",
      "1875/1875 [==============================] - 10s 5ms/step - loss: 2.3001 - accuracy: 0.1526\n",
      "Epoch 2/5\n",
      "1875/1875 [==============================] - 10s 5ms/step - loss: 2.0686 - accuracy: 0.3022\n",
      "Epoch 3/5\n",
      "1875/1875 [==============================] - 10s 5ms/step - loss: 1.2639 - accuracy: 0.5979\n",
      "Epoch 4/5\n",
      "1875/1875 [==============================] - 9s 5ms/step - loss: 0.8660 - accuracy: 0.7471\n",
      "Epoch 5/5\n",
      "1875/1875 [==============================] - 9s 5ms/step - loss: 0.6983 - accuracy: 0.8012\n"
     ]
    },
    {
     "data": {
      "text/plain": [
       "<tensorflow.python.keras.callbacks.History at 0x1ea4fc52c08>"
      ]
     },
     "execution_count": 23,
     "metadata": {},
     "output_type": "execute_result"
    }
   ],
   "source": [
    "model.fit(x_train, y_train, epochs=5)"
   ]
  },
  {
   "cell_type": "code",
   "execution_count": 24,
   "id": "solid-ghost",
   "metadata": {},
   "outputs": [
    {
     "name": "stdout",
     "output_type": "stream",
     "text": [
      "313/313 - 0s - loss: 0.6225 - accuracy: 0.8219\n"
     ]
    },
    {
     "data": {
      "text/plain": [
       "[0.622535228729248, 0.8219000101089478]"
      ]
     },
     "execution_count": 24,
     "metadata": {},
     "output_type": "execute_result"
    }
   ],
   "source": [
    "model.evaluate(x_test, y_test, verbose=2)"
   ]
  },
  {
   "cell_type": "markdown",
   "id": "ordinary-ivory",
   "metadata": {},
   "source": [
    "### Model # 5"
   ]
  },
  {
   "cell_type": "code",
   "execution_count": 25,
   "id": "amateur-pride",
   "metadata": {},
   "outputs": [],
   "source": [
    "model = tf.keras.models.Sequential([\n",
    "    #tf.keras.layers.Flatten(input_shape=(28, 28))\n",
    "    tf.keras.layers.Dense(28, activation='sigmoid', input_shape=(784,)),\n",
    "    #tf.keras.layers.Dense(14, activation=''),\n",
    "    #tf.keras.layers.Dropout(0.2),\n",
    "    tf.keras.layers.Dense(10)\n",
    "])"
   ]
  },
  {
   "cell_type": "code",
   "execution_count": 26,
   "id": "motivated-korean",
   "metadata": {},
   "outputs": [],
   "source": [
    "model.compile(optimizer='adam',\n",
    "             loss=loss_fn,\n",
    "             metrics=['accuracy'])"
   ]
  },
  {
   "cell_type": "code",
   "execution_count": 27,
   "id": "agricultural-mambo",
   "metadata": {},
   "outputs": [
    {
     "name": "stdout",
     "output_type": "stream",
     "text": [
      "Epoch 1/5\n",
      "1875/1875 [==============================] - 1s 566us/step - loss: 0.6094 - accuracy: 0.8652\n",
      "Epoch 2/5\n",
      "1875/1875 [==============================] - 1s 548us/step - loss: 0.2787 - accuracy: 0.9232\n",
      "Epoch 3/5\n",
      "1875/1875 [==============================] - 1s 552us/step - loss: 0.2244 - accuracy: 0.9370\n",
      "Epoch 4/5\n",
      "1875/1875 [==============================] - 1s 554us/step - loss: 0.1943 - accuracy: 0.9456\n",
      "Epoch 5/5\n",
      "1875/1875 [==============================] - 1s 552us/step - loss: 0.1739 - accuracy: 0.9510\n"
     ]
    },
    {
     "data": {
      "text/plain": [
       "<tensorflow.python.keras.callbacks.History at 0x1ea85015308>"
      ]
     },
     "execution_count": 27,
     "metadata": {},
     "output_type": "execute_result"
    }
   ],
   "source": [
    "model.fit(x_train, y_train, epochs=5)"
   ]
  },
  {
   "cell_type": "code",
   "execution_count": 28,
   "id": "private-vulnerability",
   "metadata": {},
   "outputs": [
    {
     "name": "stdout",
     "output_type": "stream",
     "text": [
      "313/313 - 0s - loss: 0.1730 - accuracy: 0.9500\n"
     ]
    },
    {
     "data": {
      "text/plain": [
       "[0.17298318445682526, 0.949999988079071]"
      ]
     },
     "execution_count": 28,
     "metadata": {},
     "output_type": "execute_result"
    }
   ],
   "source": [
    "model.evaluate(x_test, y_test, verbose=2)"
   ]
  },
  {
   "cell_type": "markdown",
   "id": "shared-juvenile",
   "metadata": {},
   "source": [
    "### The Answer to Homework Question #1 \n",
    "<p>1. Based on this article about the sigmoid vs softmax functions, why do we not want to use sigmoid in our mnist example? <br>\n",
    "https://glassboxmedicine.com/2019/05/26/classification-sigmoid-vs-softmax/<br><br>\n",
    "The sigmoid function treats all of the outputs individually.  The softmax algorithm treats them as interrelated values dependent on one another.  Each of the softmax values collectively sum to one.  So if one value increases another decreases. The softmax algorithm predicts the one and only one answer.  A sigmoid function can detect many different outcomes. A softmax function only predicts one.  For our MNIST example we only want to predict one outcome.  We don’t want an algorithm that will return a set of possible solutions.  Each number must be clearly identified.   We do not want an algorithm that will produce an ambiguous solution. <p>\n",
    "\n",
    "\n",
    "### Results\n",
    "\n",
    "<p>Model #1<br>\n",
    "options: relu, adam<br> \n",
    "train time: 1 second<br> \n",
    "train acc: 0.9467<br>\n",
    " test acc0.9460<br>\n",
    "To get best results, you<br>\n",
    "I did not alter anything for this test<br>\n",
    "\n",
    "Model #2<br>\n",
    "options: relu, RMSProp<br> \n",
    "train time: 1 second<br> \n",
    "train acc: 0.9445<br>\n",
    " test acc 0.9376<br>\n",
    "To get best results, you<br>\n",
    "Changed optimizer to RMSProl<br>\n",
    "\n",
    "Model #3<br>\n",
    "options: relu, adam<br> \n",
    "train time: 1 second<br> \n",
    "train acc: 0.0.9617<br>\n",
    " test acc 0.9534<br>\n",
    "To get best results, you<br>\n",
    "Defined three layers</p>\n",
    "\n",
    "Model #4<br>\n",
    "options: tanh, ftrl<br> \n",
    "train time: 1 second<br> \n",
    "train acc: 0.8016<br>\n",
    " test acc 0.8246<br>\n",
    "To get best results, you<br>\n",
    "Changed optimizer to ftrl<br>\n",
    "\n",
    "Model #5<br>\n",
    "options: sigmoid, adam<br> \n",
    "train time: 1 second<br> \n",
    "train acc: 0.9532<br>\n",
    "test acc 0.9527<br>\n",
    "To get best results, you<br>\n",
    "used sigmoid activation function</p>"
   ]
  },
  {
   "cell_type": "code",
   "execution_count": null,
   "id": "global-serial",
   "metadata": {},
   "outputs": [],
   "source": []
  }
 ],
 "metadata": {
  "kernelspec": {
   "display_name": "Python 3",
   "language": "python",
   "name": "python3"
  },
  "language_info": {
   "codemirror_mode": {
    "name": "ipython",
    "version": 3
   },
   "file_extension": ".py",
   "mimetype": "text/x-python",
   "name": "python",
   "nbconvert_exporter": "python",
   "pygments_lexer": "ipython3",
   "version": "3.7.9"
  }
 },
 "nbformat": 4,
 "nbformat_minor": 5
}
